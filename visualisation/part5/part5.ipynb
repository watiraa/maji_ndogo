{
 "cells": [
  {
   "cell_type": "markdown",
   "id": "f662d169",
   "metadata": {},
   "source": [
    "# Visualising Maji Ndogo’s Past"
   ]
  },
  {
   "cell_type": "markdown",
   "id": "2d230d14",
   "metadata": {
    "tags": []
   },
   "source": [
    "### Introduction\n",
    "\n",
    "This project seeks to address gender inequality in water access within Maji Ndogo through a series of data-driven reports. Acknowledging the broader impact of water access issues, this initiative goes beyond gender dynamics to encompass various challenges highlighted by our data."
   ]
  },
  {
   "cell_type": "markdown",
   "id": "8944ccbc",
   "metadata": {},
   "source": [
    "# Analysing Site Photos Using AI for Demographic Insights"
   ]
  },
  {
   "cell_type": "markdown",
   "id": "89f436d3",
   "metadata": {},
   "source": [
    "When the field surveyors visited various water sites, they captured numerous photos. A data scientist observed these images and recognized the potential to gain valuable insights through the use of AI.\n",
    "\n",
    "Here’s where it gets interesting: Machine Learning, a type of Artificial Intelligence, was applied to analyze the photos. It involved training a computer to recognize patterns, similar to how a child learns to identify shapes or colors. In this case, the model was trained to detect people in the images and, even more impressively, to classify whether those in line were men, women, or children. This allowed for an approximate percentage breakdown of men, women, and children in each queue per visit.\n",
    "\n",
    "The AI classifies each person in the image, categorizes them, and counts each group. They then provided us with a table containing the `record_id` (linked to the one from the `visits` table) and % composition as M, F or child. So, for each recorded queue time, we now know the demographic makeup of the people that were in line at that moment.\n",
    "\n",
    "\n",
    "The latest version of the data will now be imported into Power BI from the CSV file."
   ]
  },
  {
   "cell_type": "markdown",
   "id": "2315018d",
   "metadata": {},
   "source": [
    "# Visual Insights\n",
    "\n",
    "Here is a short explanation of the new data:\n",
    "\n",
    "1. `hour_of_day` - The hour of day at the `time_of_record`. This will help us aggregate by the hour of the day.\n",
    "2. `day_of_week` - The day of the week from the `time_of_record`. This will help us aggregate by the day of the week.\n",
    "3. `percent_male` - The percentage of men in the queue at the `time_of_record`.\n",
    "4. `percent_female` - The percentage of men in the queue at the `time_of_record`.\n",
    "5. `percent_child` - The percentage of men in the queue at the `time_of_record`.\n",
    "\n",
    "Now that the data is in, let's recap the main points from our SQL analysis (part4) and visually represent these.\n",
    "\n",
    "1. Most water sources are rural in Maji Ndogo.\n",
    "2. 43% of our people are using shared taps. 2000 people often share one tap.\n",
    "3. 31% of our population has water infrastructure in their homes but within that group\n",
    "4. 45% face non-functional systems due to issues with pipes, pumps, and reservoirs. Towns like Amina, the rural parts of Amanzi, and a couple of towns across Akatsi and Hawassa have broken infrastructure.\n",
    "5. 18% of our people are using wells, but within that, only 28% are clean. These are mostly in Hawassa, Kilimani and Akatsi.\n",
    "6. Our citizens often face long wait times for water, averaging more than 120 minutes:\n",
    "    - Queues are very long on Saturdays.\n",
    "    - Queues are longer in the mornings and evenings.\n",
    "    - Wednesdays and Sundays have the shortest queues.\n",
    "    \n",
    "## National Level Results\n",
    "\n",
    "Let's start with our national-level results. We're going to make a couple of visuals that communicate the results of the survey at a\n",
    "high level. These are the insights we want to show:\n",
    "\n",
    "1. **Rural** vs. **urban** population\n",
    "2. **43% of people using shared taps**.\n",
    "3. **31% of population with water infrastructure in their homes**.\n",
    "4. **18%** of people using wells.\n",
    "\n",
    "To do this, we create the following visuals on a single page:\n",
    "\n",
    "1. A pie chart to illustrate the total Urban and Rural population split in Maji Ndogo.\n",
    "2. A bar (column) chart showing the total population using the various water sources. \n",
    "\n",
    "> **NOTE**: Remember the population was ≈28 Million and `visit_count` = 1 prevented duplicate records, so use it as a filter condition.\n",
    "\n",
    "This is what I got. I went with a terrible colour palette, and I am going to make a lot more mistakes in the other visualisations so we can see what good and bad visuals look like later on."
   ]
  },
  {
   "cell_type": "markdown",
   "id": "147be850",
   "metadata": {},
   "source": [
    "![National Results](assets/national_results.png)"
   ]
  },
  {
   "cell_type": "markdown",
   "id": "aa9cd3cf",
   "metadata": {},
   "source": [
    "Because we have a couple of water source types, the bar chart makes it simpler to understand the breakdown of the source data. The most obvious part of the bar chart is just how much more people use shared taps compared to the others! 43% doesn't seem that big, but since the next largest source is only 18%, it is clear that shared taps make up a large portion of Maji Ndogo's water supply.\n",
    "\n",
    "However, the bar chart makes it a bit harder to understand the relative proportion of shared taps to the total population - 41%.\n",
    "\n",
    "Since we made these two visuals on the National page, Power BI connects the underlying relationships in the data in the two visuals. We can select urban on the pie chart, and only the urban data is shown on the bar chart. The National bars are now a bit lighter, while the urban data is now highlighted on the bars as shown below ↓"
   ]
  },
  {
   "cell_type": "markdown",
   "id": "2d7e0b4c",
   "metadata": {},
   "source": [
    "![Urban Results](assets/urban_results.png)"
   ]
  },
  {
   "cell_type": "markdown",
   "id": "8745a3b0",
   "metadata": {},
   "source": [
    "Clicking on the `shared_tap` bar will filter the data for the pie chart, showing how many people share taps in urban and rural areas. Can you also see how the rural highlight in the pie chart is a bit larger than the urban one (larger radius)? This tells us that there are proportionally more shared taps in rural areas compared to urban ones as illustrated below ↓ (the same applies to wells)"
   ]
  },
  {
   "cell_type": "markdown",
   "id": "0b0cc230",
   "metadata": {},
   "source": [
    "![Shared Tap Results](assets/shared_tap.png)"
   ]
  },
  {
   "cell_type": "markdown",
   "id": "b4d6af81",
   "metadata": {},
   "source": [
    "However, when we click on the tap_in_home bar, the filtered data for the pie chart shows that the urban highlight in the pie chart is a bit larger than the rural one. This tells us that there are proportionally more tap_in_home in urban areas compared to rural ones as shown below ↓ \n",
    "\n",
    "![Home Tap Results](assets/tap_in_home.png)"
   ]
  },
  {
   "cell_type": "markdown",
   "id": "9d3b854b",
   "metadata": {},
   "source": [
    "So with one page and using only two visuals, we could illustrate insights 1, 2 and 3, and learn something more about taps installed in urban vs. rural houses we didn't know before. This is why I love visualising data!❤️"
   ]
  },
  {
   "cell_type": "markdown",
   "id": "f1b9c836",
   "metadata": {},
   "source": [
    "Next up, let's take on the second part of insight 4: **Where is the infrastructure broken?**\n",
    "\n",
    "One of the visuals with the most impact is a map, so this is one of the crucial visualisations we'll use a lot! Since Maji Ndogo isn't well known, we have to use a custom map to visualise the data.\n",
    "\n",
    "![Province Water Sources](assets/water_sources_by_province.png)\n",
    "\n",
    "Amanzi is at the top of our priority, then Sokoto. This is indicated by the color saturation for each region: a higher saturation means a greater number of broken infrastructure. Another cool feature is that you can select a province on the map, and it will filter all of the results to only include that province."
   ]
  },
  {
   "cell_type": "markdown",
   "id": "df8fd69f",
   "metadata": {},
   "source": [
    "Ok, so let's look at insight 6 on **queue times** for a minute. \n",
    "\n",
    "To do this, we create a new Power BI page and add the following visuals:\n",
    "\n",
    "1. A bar chart visual with average queue times per day.\n",
    "2. A line chart that plots the average queue times for the hour and day.\n",
    "3. A bar chart that shows the average composition of queues for each day of the week.\n",
    "4. A scatter plot with `number_of_people_served` vs. Average of `time_in_queue`. Make sure to add a filter to this plot to include only data where the `visit_count` > 1. \n",
    "\n",
    "Why `visit_count` > 1? Well... I had a look and I noticed a data anomaly.  Before adding the filter, there is a line of values right at the bottom where the queue is 3000 people long but still only 30 mins. We have to look into what happened there. The data is little enough that we can ignore it for now. But it shows you...although we used this data for a while now, by visualising it we could see a problem.\n",
    "\n",
    "![Queue Times](assets/queue_times.png)"
   ]
  },
  {
   "cell_type": "markdown",
   "id": "aa8309f1",
   "metadata": {},
   "source": [
    "OK, so once again, these plots are not formatted and not laid out well, but let's analyse a bit...\n",
    "\n",
    "\n",
    "# Summary Report\n",
    "\n",
    "### Insights\n",
    "\n",
    "Ok, so let's sum up the data we have. Here are a couple of interesting insights:\n",
    "\n",
    "1. The bar chart displaying queue times by day clearly indicates that Saturdays experience significantly longer queues. It raises questions about whether the visual effectively communicates this message and whether citizens would consider changing their water collection day based on the data presented. It's essential to evaluate the clarity and simplicity of the visual to ensure the intended message is conveyed.\n",
    "\n",
    "2. The graph showing queue times by hour reveals that weekday queuing patterns differ from those on weekends. During weekdays, queues peak early in the morning and late in the afternoon, while weekends show a more consistent queuing pattern throughout the day.\n",
    "\n",
    "3. The analysis continues with a clustered bar visual illustrating queue composition over different days, highlighting a gender disparity in water queuing. Women predominantly queue for water, with men queuing more on weekends, suggesting potential work commitments that leave women responsible for water collection. Additionally, many women queue with their children, emphasizing the need for change in the current system.\n",
    "\n",
    "4. The scatter plot supports the decision to install additional taps when queues exceed 30 minutes. The visual reveals a mostly linear relationship between queue length and wait times. For instance, installing a new tap near a shared tap serving 3,000 people could halve the wait time from 200 minutes to 100 minutes by redistributing users. With 10 new taps, the queue time could further decrease to 40 minutes, allowing for better access to water. The data actually flattens off a bit (plateauing) around 3000 people served. If queues are too long, people give up. The queue times don't increase much past 3000 because people see long queues, and go look for water in other places.\n",
    "\n",
    "This highlights the importance of visualization: it’s not just about creating graphs but about effectively communicating insights. Power BI enhances data analysis by making trends more visible, demonstrating how it can provide deeper insights compared to traditional spreadsheets. For example, focusing on Saturday reveals that from 11 AM to 6 PM, queues are 15% shorter as shown below, a detail that spreadsheets can't easily illustrate."
   ]
  },
  {
   "cell_type": "markdown",
   "id": "1ffa4440",
   "metadata": {},
   "source": [
    "![Saturday Results](assets/saturday_results.png)"
   ]
  },
  {
   "cell_type": "markdown",
   "id": "0697d96b",
   "metadata": {},
   "source": [
    "This report highlighted some interesting findings. An analysis of old crime records in Maji Ndogo revealed a connection between thousands of crimes over the past ten years and specific water source locations. These crimes occurred either at the locations in the current data set or during travel to and from those sites. Each crime is associated with a unique crime ID, the type of crime committed, the gender of the victim, and the location ID. To simplify the analysis, the day of the week and the hour of the day when the crime occurred were added.\n",
    "\n",
    "In the next part, we will have this crime related data and take a deeper dive into it. Visualizing the number of crimes by type, province, and victim gender will provide valuable insights. It would be interesting to investigate any relationships between queue lengths and the occurrence of crimes. For example, are there specific days when long queues coincide with a higher number of reported crimes?\n",
    "\n",
    "Til next time :)"
   ]
  }
 ],
 "metadata": {
  "kernelspec": {
   "display_name": "Python 3 (ipykernel)",
   "language": "python",
   "name": "python3"
  },
  "language_info": {
   "codemirror_mode": {
    "name": "ipython",
    "version": 3
   },
   "file_extension": ".py",
   "mimetype": "text/x-python",
   "name": "python",
   "nbconvert_exporter": "python",
   "pygments_lexer": "ipython3",
   "version": "3.11.5"
  }
 },
 "nbformat": 4,
 "nbformat_minor": 5
}
