{
 "cells": [
  {
   "cell_type": "markdown",
   "id": "f662d169",
   "metadata": {},
   "source": [
    "# Moulding Data into Visual Stories in Maji Ndogo"
   ]
  },
  {
   "cell_type": "markdown",
   "id": "2d230d14",
   "metadata": {
    "tags": []
   },
   "source": [
    "### Introduction\n",
    "\n",
    "In this project, we’re moving beyond a single-table setup to explore how Power BI enables seamless integration and visualisation of data from multiple sources. This approach allows us to tell a richer, more compelling story with our data.\n",
    "\n",
    "For this demonstration, instead of connecting to our existing SQL database, we’ll use the provided Excel workbook: `Md_water_services_data.xlsx`. This file contains all the necessary tables in one place, making it easy to select what we need and we're good to go!"
   ]
  },
  {
   "cell_type": "markdown",
   "id": "8944ccbc",
   "metadata": {},
   "source": [
    "# Unpacking Our Model"
   ]
  },
  {
   "cell_type": "markdown",
   "id": "89f436d3",
   "metadata": {},
   "source": [
    "![Data Model](visualisation/part6/assets/data_model.png)\n",
    "\n",
    "For this project, the **fact table** is `visits`, as it captures thousands of inspections conducted on water sources across Maji Ndogo. Supporting this fact table are several **dimension tables** that provide context and additional details:\n",
    "\n",
    "- `location`: Contains details about where each visit occurred.\n",
    "- `water_source`: Describes the findings at those locations.\n",
    "- `well_pollution`: Adds more specific details about polluted sources.\n",
    "- `queue_composition`: Captures the demographic breakdown (men, women, children) of individuals observed at the visited sites.\n",
    "\n",
    "While tables like `project_progress` and `water_source_related_crime` provide valuable insights, they don't relate directly to the `visits` table. Instead, they are fact tables in their own right:\n",
    "\n",
    "- `project_progress`: Tracks milestones and timelines for water-related projects.\n",
    "- `water_source_related_crime`: Links incidents over the past decade to specific water sources.\n",
    "\n",
    "Although star schemas are ideal for creating straightforward relationships in Power BI (allowing efficient filtering and drilling), they require all data to be at the same granularity with 1-to-1 or 1-to-many relationships. In this case, the presence of multiple fact tables with distinct data contexts makes a simple star schema impractical.\n",
    "\n",
    "Instead, the data model adopts a multi-star schema, which is common when integrating data from different aspects of an operation. This approach enables deeper insights by connecting loosely related datasets but it comes at the cost of efficiency."
   ]
  },
  {
   "cell_type": "markdown",
   "id": "2315018d",
   "metadata": {},
   "source": [
    "# Preparing for Visualisation\n",
    "\n",
    "With the data model refined, the next step is to create visuals in Power BI. The goal is to effectively present national-level insights, leveraging the relationships and structure of the data.\n",
    "\n",
    "## National-Level Report Visuals\n",
    "\n",
    "1. **Map of Provinces**: Displaying all provinces in Maji Ndogo.\n",
    "2. **Pie/Doughnut Chart**: Representing the population split between urban and rural areas.\n",
    "3. **Tree Map**: Showing the total population served per source type.\n",
    "4. **Column Chart**: Visualizing the total number of each source type for every town.\n",
    "5. **Column Chart**: Counting the different sources by type.\n",
    "\n",
    "> **NOTE**: Remember to exclude rural data when creating the tree map (since \"Rural\" is included as a \"town\" in the dataset)."
   ]
  },
  {
   "cell_type": "markdown",
   "id": "147be850",
   "metadata": {},
   "source": [
    "![National Results](visualisation/part6/assets/national_results.png)"
   ]
  },
  {
   "cell_type": "markdown",
   "id": "aa9cd3cf",
   "metadata": {},
   "source": [
    "This dashboard provides an interactive view of the water access data.\n",
    "\n",
    "- **Default View (National Level)**:\n",
    "By default, the metrics displayed reflect national-level data, giving a high-level overview of the survey results.\n",
    "\n",
    "- **Filtering by Province**:\n",
    "Selecting a province on the map dynamically filters the metrics, such as location type, people served, and water sources, to show data specific to that province. This allows decision-makers to focus on individual provinces while still comparing results to the national context.\n",
    "\n",
    "- **Treemap Functionality**:\n",
    "The treemap visualizes the number of people served by each type of water source. It also acts as a filter, enabling users to select a specific source type. This feature is especially useful for engineers and decision-makers to drill down into specific water source data across different scales — national, provincial, rural, or town-level. \n",
    "\n",
    "## Queue Analysis Visuals\n",
    "\n",
    "In this section, we’ll create a dedicated page to display visuals related specifically to queue times, including a map for geographic context.\n",
    "\n",
    "Previously, we used a table with pre-calculated fields for hour of the day and day of the week. Now, however, we are working directly with a timestamp column, which includes year, month, and day information. To focus on time of day and weekday patterns, we need to create new columns with this specific information (`day_name` and `hour_of_day`).\n",
    "\n",
    "Once we have the two columns we need, we will add the following visuals:\n",
    "\n",
    "1. **Average Queue Time by Hour** as a line plot.\n",
    "2. **Average Queue Time by Day**.\n",
    "3. **Queue Composition**: A breakdown of average queue composition (e.g., percentage of men, women, and children).\n",
    "4. **Total Queue Time by Province**.\n",
    "\n",
    "> **NOTE**: Make sure to include only `shared_taps` in all visualisations on the queue page."
   ]
  },
  {
   "cell_type": "markdown",
   "id": "2d7e0b4c",
   "metadata": {},
   "source": [
    "![Queue Times](visualisation/part6/assets/queue_times.png)"
   ]
  },
  {
   "cell_type": "markdown",
   "id": "8745a3b0",
   "metadata": {},
   "source": [
    "This project showcases how decision-makers can interact with data dynamically. For example, selecting a specific province filters all related data accordingly. When viewing Amanzi, it becomes clear that the average queue consists predominantly of men as shown below, whereas on a national level, it's primarily women. \n",
    "\n",
    "![Amanzi Queue Results](visualisation/part6/assets/amanzi_queue_times.png)\n",
    "\n",
    "Additionally, patterns emerge based on days of the week: on Saturdays, 40% of queues nationwide are men, while Mondays see 71% women as shown below ↓\n",
    "\n",
    "![Saturday Queue Results](visualisation/part6/assets/sat_queue_times.png)\n",
    "\n",
    "Zooming into specific timeframes reveals even more granular insights. At 15:00 on a Saturday, children make up just 3% of the queue as shown below,\n",
    "\n",
    "![15:00 Queue Results](visualisation/part6/assets/1500hrs_results.png)\n",
    "\n",
    "but by 16:00, this number jumps to 29%.\n",
    "\n",
    "![16:00 Queue Results](visualisation/part6/assets/1600hrs_results.png)\n",
    "\n",
    "We can even combine these filters by CTRL-clicking (SHIFT-clicking on Mac) on more than one. For instance, select Sokoto on the map, Monday from the column chart, and 16:00 from the line plot. This will show that 42% of the queue is made up of children as illustrated below ↓\n",
    "\n",
    "![Multiple Filters Queue Results](visualisation/part6/assets/multiple_filters.png)\n",
    "\n",
    "Unlike spreadsheets, which require extensive effort to achieve this level of functionality, Power BI automates it seamlessly through well-modeled data making it an efficient, powerful way to uncover insights."
   ]
  },
  {
   "cell_type": "markdown",
   "id": "0b0cc230",
   "metadata": {},
   "source": [
    "## Pollution Data Visuals\n",
    "\n",
    "For the next page, we will focus on the pollution:\n",
    "\n",
    "1. **Duplicate the map** from the previous page.\n",
    "2. **Modify the map** by updating the `Color Saturation` setting to reflect the count of pollution results.\n",
    "3. **Add a composition chart** that visualises the distribution of pollution results, categorized into three types:\n",
    "    - Clean\n",
    "    - Chemically contaminated\n",
    "    - Biologically contaminated\n",
    "\n",
    "These visuals will help convey the severity and types of pollution across different locations.\n",
    "\n",
    "![Pollution Results](visualisation/part6/assets/pollution_results.png)"
   ]
  },
  {
   "cell_type": "markdown",
   "id": "b4d6af81",
   "metadata": {},
   "source": [
    "Now the map becomes informative. When \"Clean\" is selected, most provinces appear in green, indicating a lower number of clean wells. This might seem counterintuitive, as green is typically associated with positive outcomes. However, in this context, green highlights a negative situation — indicating that there are few clean wells in those areas as shown below ↓ \n",
    "\n",
    "![Clean Wells Results](visualisation/part6/assets/clean_wells.png)"
   ]
  },
  {
   "cell_type": "markdown",
   "id": "9d3b854b",
   "metadata": {},
   "source": [
    "When selecting biologically contaminated wells, Akatsi shows relatively low contamination levels (indicated in green). \n",
    "\n",
    "![Bio Polluted Wells](visualisation/part6/assets/bio_polluted_wells.png)\n",
    "\n",
    "However, selecting chemically contaminated wells reveals Akatsi as a hotspot (marked in bright red). This indicates that while Akatsi has a significant number of clean wells, the majority of its polluted wells are chemically contaminated. \n",
    "\n",
    "![Chem Polluted Wells](visualisation/part6/assets/chem_polluted_wells.png)"
   ]
  },
  {
   "cell_type": "markdown",
   "id": "f1b9c836",
   "metadata": {},
   "source": [
    "This project explores the intersection of crime data and water access in Maji Ndogo. A data scientist extracted data from the Maji Ndogo crime database, focusing on incidents recorded at or near water sources, or locations where victims reported traveling to or from water sources when the crimes occurred.\n",
    "\n",
    "You might be asking, \"How does this relate to water access?\" Consider the scenario of collecting water from a shared source at night. If you don't feel safe, would you still go? Unfortunately, this is a harsh reality for many people in Maji Ndogo and in Africa in general. Women and children, in particular, are often the victims of crimes at water collection points, especially during the early morning and late evening hours.\n",
    "\n",
    "With this in mind, we aim to analyze the crime data in Maji Ndogo and see if it highlights similar patterns of risk related to water access.\n",
    "\n",
    "As part of this analysis, we will create a new page to visualise the crime-related data and its potential connection to water access.\n",
    "\n",
    "## Crime-Related Data Analysis and Visuals\n",
    "\n",
    "We will create visuals that will show the following:\n",
    "\n",
    "1. **Crime Type and Gender Disparity**: Visualise the different types of crimes affecting men, women, and children, with an emphasis on identifying the crimes that disproportionately impact women in Maji Ndogo.\n",
    "\n",
    "2. **Total Crime Distribution by Gender and Age Group**: Plot the total number of crimes affecting men, women, and children. This analysis aims to highlight any patterns in crime rates specific to different demographic groups related to water collection.\n",
    "\n",
    "3. **Crimes by Time of Day and Day of the Week** \n",
    "\n",
    "    Create two visuals:\n",
    "\n",
    "    - Number of crimes by hour of the day.\n",
    "    - Number of crimes by day of the week, broken down by victim type (men, women, children).\n",
    "\n",
    "    In order to plot these, the `hour_of_day` and `day_of_week` columns will be created in the `water_source_related_crime` dataset, just like we did for the `visits` table.\n",
    "\n",
    "4. **Crimes by Province**: Analyze crime rates across different provinces in Maji Ndogo, with a specific focus on identifying which provinces experience higher and lower  rates of crimes affecting women.\n",
    "\n",
    "![Crime Results](visualisation/part6/assets/crime_results.png)"
   ]
  },
  {
   "cell_type": "markdown",
   "id": "df8fd69f",
   "metadata": {},
   "source": [
    "Here are some key trends observed in the above data:\n",
    "\n",
    "1. As water collectors, women are twice as likely to be a victim of crime than men.\n",
    "2. Women are most likely to be victims of harassment, followed by sexual assault.\n",
    "3. Crime spikes over weekends, and almost twice as many crimes are committed early in the mornings or at night with women again facing the greatest threat.\n",
    "4. In Amanzi, women are at a significantly lower risk of becoming crime victims due to fewer women needing to collect water. The data shows that more men are responsible for fetching water, which contributes to this reduced risk for women.\n",
    "\n",
    "### Refining the Report: Simplifying Data Visualization and Interactivity \n",
    "\n",
    "We are nearing the final stages of creating the report, but it still needs some refinement. Currently, the information is a bit cluttered, making it difficult for someone new to interpret. To make it more user-friendly, we need to simplify and summarize the key insights we want to highlight. For example, while the map is visually appealing, it occupies a significant amount of space without adding enough value. Instead of plotting data for each province and just highlighting the correct column, it might be more effective to display a number that updates based on the selected province. We’ll need a few additional tools to do this, but in the next part, we’ll be wrapping up this project!"
   ]
  }
 ],
 "metadata": {
  "kernelspec": {
   "display_name": "Python 3 (ipykernel)",
   "language": "python",
   "name": "python3"
  },
  "language_info": {
   "codemirror_mode": {
    "name": "ipython",
    "version": 3
   },
   "file_extension": ".py",
   "mimetype": "text/x-python",
   "name": "python",
   "nbconvert_exporter": "python",
   "pygments_lexer": "ipython3",
   "version": "3.11.5"
  }
 },
 "nbformat": 4,
 "nbformat_minor": 5
}
